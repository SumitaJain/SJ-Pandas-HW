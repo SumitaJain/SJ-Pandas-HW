{
 "cells": [
  {
   "cell_type": "markdown",
   "metadata": {},
   "source": [
    "# Search For The Worst\n",
    "\n",
    "#### The objective of this assignment is for you to explain what is happening in each cell in clear, understandable language. \n",
    "\n",
    "#### _There is no need to code._ The code is there for you, and it already runs. Your task is only to explain what each line in each cell does.\n",
    "\n",
    "#### The placeholder cells should describe what happens in the cell below it."
   ]
  },
  {
   "cell_type": "markdown",
   "metadata": {},
   "source": [
    "**Example**: The cell below imports `pandas` as a dependency because `pandas` functions will be used throughout the program, such as the Pandas `DataFrame` as well as the `read_csv` function."
   ]
  },
  {
   "cell_type": "code",
   "execution_count": null,
   "metadata": {},
   "outputs": [],
   "source": [
    "import pandas as pd\n",
    "import numpy as np"
   ]
  },
  {
   "cell_type": "markdown",
   "metadata": {},
   "source": [
    "**Example**: The cell below creates a reference to teh csv file and stores it in a variable called `csv_path`. It then creates a DataFrame using the `pd.read_csv` function. The output of the `read_csv` function is a DataFrame."
   ]
  },
  {
   "cell_type": "code",
   "execution_count": null,
   "metadata": {},
   "outputs": [],
   "source": [
    "# Create reference to CSV file\n",
    "csv_path = \"Resources/Soccer2018Data.csv\"\n",
    "\n",
    "# Import the CSV into a pandas DataFrame\n",
    "soccer_2018_df = pd.read_csv(csv_path, low_memory=False)\n",
    "soccer_2018_df"
   ]
  },
  {
   "cell_type": "code",
   "execution_count": null,
   "metadata": {},
   "outputs": [],
   "source": [
    "# Looks in the \"Preferred Position\" column in the dataframe and identifies the various unique entries \n",
    "## and returns the list/array as an output\n",
    "\n",
    "soccer_2018_df[\"Preferred Position\"].unique()"
   ]
  },
  {
   "cell_type": "code",
   "execution_count": null,
   "metadata": {},
   "outputs": [],
   "source": [
    "# Creates a new dataframe with data on Strikers by leveraging the previous one - \n",
    "## <.loc> - arguments are rows and columns. Here, it's all columns (:) and for rows:\n",
    "### <[soccer_2018_df[\"Preferred Position\"] == \"ST\"> Looks in the \"Preferred Position\" column in the dataframe and finds \"ST\" entries\n",
    "\n",
    "strikers_2018_df = soccer_2018_df.loc[soccer_2018_df[\"Preferred Position\"] == \"ST\", :]\n",
    "\n",
    "# Prints the first 5 rows of this new dataframe\n",
    "\n",
    "strikers_2018_df.head() "
   ]
  },
  {
   "cell_type": "code",
   "execution_count": null,
   "metadata": {},
   "outputs": [],
   "source": [
    "# Sort the DataFrame by the values in the \"ST\" column to find the worst\n",
    "## This dataframe just has players whose \"Preferred Position\" is \"ST\".  Sorting the data on this column\n",
    "### enables one to see (in ascending order) the players' scores - the first row shows the person with the lowest \n",
    "#### score. This sort allows one to see which players self-identify as strikers and performed worst in that role.\n",
    "\n",
    "strikers_2018_df = strikers_2018_df.sort_values(\"ST\")\n",
    "\n",
    "# Reset the index so that the index is now based on the sorting locations\n",
    "## The sort_values command reorganized the data with the original 0-n index which isn't always in order or consecutive.\n",
    "### Resetting the index creates a new 1-n numbering system for the rows in the dataframe.\n",
    "#### Replaced the previous dataframe with this re-indexed dataframe\n",
    "\n",
    "strikers_2018_df = strikers_2018_df.reset_index(drop=True)\n",
    "\n",
    "# Prints the first 5 rows of this re-indexed dataframe\n",
    "\n",
    "strikers_2018_df.head()"
   ]
  },
  {
   "cell_type": "code",
   "execution_count": null,
   "metadata": {
    "scrolled": false
   },
   "outputs": [],
   "source": [
    "# Creates a variable called worst_striker and sets it as the first (0) row and all (:) columns of the dataframe\n",
    "\n",
    "worst_striker = strikers_2018_df.loc[0, :]\n",
    "\n",
    "# Prints the output for the first row (which because of the way the data is sorted shows the lowest performing or worst striker)\n",
    "\n",
    "worst_striker"
   ]
  }
 ],
 "metadata": {
  "kernelspec": {
   "display_name": "Python 3",
   "language": "python",
   "name": "python3"
  },
  "language_info": {
   "codemirror_mode": {
    "name": "ipython",
    "version": 3
   },
   "file_extension": ".py",
   "mimetype": "text/x-python",
   "name": "python",
   "nbconvert_exporter": "python",
   "pygments_lexer": "ipython3",
   "version": "3.7.3"
  }
 },
 "nbformat": 4,
 "nbformat_minor": 2
}
