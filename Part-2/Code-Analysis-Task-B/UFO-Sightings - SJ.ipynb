{
 "cells": [
  {
   "cell_type": "markdown",
   "metadata": {},
   "source": [
    "# UFO Sightings\n",
    "\n",
    "#### The objective of this assignment is for you to explain what is happening in each cell in clear, understandable language. \n",
    "\n",
    "#### _There is no need to code._ The code is there for you, and it already runs. Your task is only to explain what each line in each cell does.\n",
    "\n",
    "#### The placeholder cells should describe what happens in the cell below it."
   ]
  },
  {
   "cell_type": "markdown",
   "metadata": {},
   "source": [
    "**Example**: The cell below imports `pandas` as a dependency because `pandas` functions will be used throughout the program, such as the Pandas `DataFrame` as well as the `read_csv` function."
   ]
  },
  {
   "cell_type": "code",
   "execution_count": null,
   "metadata": {},
   "outputs": [],
   "source": [
    "import pandas as pd"
   ]
  },
  {
   "cell_type": "code",
   "execution_count": null,
   "metadata": {},
   "outputs": [],
   "source": [
    "# Names a variable (csv_path) identifying where (the path) the csv file can be found (in the Resources folder) \n",
    "# Reads the csv file, using the path name defined earlier, into a dataframe \n",
    "# Displays the first 5 rows of the dataframe\n",
    "\n",
    "csv_path = \"Resources/ufoSightings.csv\"\n",
    "\n",
    "ufo_df = pd.read_csv(csv_path)\n",
    "\n",
    "ufo_df.head()"
   ]
  },
  {
   "cell_type": "code",
   "execution_count": null,
   "metadata": {},
   "outputs": [],
   "source": [
    "# Counts the number of entries in each column of the dataframe and provides output in a table.\n",
    "# This gives both a sense of how many rows of data exists as well as whether each column is populated to the same extent.\n",
    "\n",
    "ufo_df.count()"
   ]
  },
  {
   "cell_type": "code",
   "execution_count": null,
   "metadata": {},
   "outputs": [],
   "source": [
    "# Clean up the dataframe by removing \"any\" rows that include NA\n",
    "## If (how=\"all\") were used, and any row or column had included \"all\" NA values, that row/column would have been removed.\n",
    "### This is useful because, there would have been no useful information in that row/column.\n",
    "#### The disadvantage of (how=\"any\") is that it removes all data from a row that includes even just one NA. Because of\n",
    "##### this, one may miss out on some of the information that was available. e.g., if one of the UFO sightings included \n",
    "###### all information except for \"state\" (which said NA), one could have determined that information from the latitude/longitude\n",
    "####### and it would still have been a useful data point. On the other hand, removing rows with NAs does make analysis of the \n",
    "######## data easier.\n",
    "\n",
    "clean_ufo_df = ufo_df.dropna(how=\"any\")\n",
    "\n",
    "# Counts the number of entries in each column of the dataframe and provides output in a table.\n",
    "# Note that now all columns have the same number of entries (all rows are fully populated with non-NA values)\n",
    "\n",
    "clean_ufo_df.count()"
   ]
  },
  {
   "cell_type": "code",
   "execution_count": null,
   "metadata": {},
   "outputs": [],
   "source": [
    "# Creates a list with a subset of the columns in the original data frame and names the list \"columns\"\n",
    "\n",
    "columns = [\n",
    "    \"datetime\",\n",
    "    \"city\",\n",
    "    \"state\",\n",
    "    \"country\",\n",
    "    \"shape\",\n",
    "    \"duration (seconds)\",\n",
    "    \"duration (hours/min)\",\n",
    "    \"comments\",\n",
    "    \"date posted\"\n",
    "]\n",
    "\n",
    "# Creates a new dataframe called usa_ufo_df. \n",
    "# the new dataframe leverages the cleaned dataframe created in the previous cell, locates the column called \"country\", \n",
    "## and finds all rows that identify the country as \"US\". This dataframe only includes the columns identified in the \n",
    "### variable \"columns\" (i.e., unlike previous dataframes, it doesn't include latitude and longitude columns)\n",
    "\n",
    "usa_ufo_df = clean_ufo_df.loc[clean_ufo_df[\"country\"] == \"us\", columns]\n",
    "\n",
    "# Prints the first 5 rows of this new dataframe as output\n",
    "usa_ufo_df.head()"
   ]
  },
  {
   "cell_type": "code",
   "execution_count": null,
   "metadata": {},
   "outputs": [],
   "source": [
    "# Defines state_counts as an object that identifies the \"state\" column in the usa_ufo_df dataframe and \n",
    "## counts unique values (i.e., how many times each state (a unique value) is represented in the column).\n",
    "### This provides a quick summary view that is especially useful because it also sorts the output in\n",
    "#### descending order. So, one can see, at a glance, how the data is distributed \n",
    "##### (e.g., which state has the most and which state has the fewest sightings).\n",
    "\n",
    "state_counts = usa_ufo_df[\"state\"].value_counts()\n",
    "\n",
    "# Show state_counts as an output\n",
    "\n",
    "state_counts"
   ]
  },
  {
   "cell_type": "code",
   "execution_count": null,
   "metadata": {},
   "outputs": [],
   "source": [
    "# Places the state_counts table into a dataframe and prints the first 5 rows.\n",
    "\n",
    "state_ufo_counts_df = pd.DataFrame(state_counts)\n",
    "state_ufo_counts_df.head()"
   ]
  },
  {
   "cell_type": "code",
   "execution_count": null,
   "metadata": {},
   "outputs": [],
   "source": [
    "# Replaces the dataframe created in the previous cell with one that has the same information but one new column heading\n",
    "## (used .rename to change the column heading from \"state\" to \"Sum of Sightings\"). Prints the first 5 rows.\n",
    "\n",
    "state_ufo_counts_df = state_ufo_counts_df.rename(\n",
    "    columns={\"state\": \"Sum of Sightings\"})\n",
    "state_ufo_counts_df.head()"
   ]
  },
  {
   "cell_type": "code",
   "execution_count": null,
   "metadata": {},
   "outputs": [],
   "source": [
    "# Identifies the type of data resident in each column of the dataframe (e.g., object, integer) and provides this as an output.\n",
    "## Once one knows this, one can decide whether any types should be changed in order to facilitate manipulation of the data.\n",
    "usa_ufo_df.dtypes"
   ]
  },
  {
   "cell_type": "code",
   "execution_count": null,
   "metadata": {},
   "outputs": [],
   "source": [
    "# Locates the column called \"duration(seconds)\" and ascribes it a new data type (\"float\") that is numerical (with decimals)\n",
    "## and can be used in computations unlike the original data type (object)\n",
    "usa_ufo_df.loc[:, \"duration (seconds)\"] = usa_ufo_df[\"duration (seconds)\"].astype(\"float\")\n",
    "\n",
    "# Shows each column's data types as an output\n",
    "usa_ufo_df.dtypes"
   ]
  },
  {
   "cell_type": "code",
   "execution_count": null,
   "metadata": {},
   "outputs": [],
   "source": [
    "# Now it is possible to find the sum of seconds\n",
    "## sums up the values in the \"duration (seconds)\" column - this would not have been possible if the datatype were still \"object\"\n",
    "usa_ufo_df[\"duration (seconds)\"].sum()"
   ]
  },
  {
   "cell_type": "code",
   "execution_count": null,
   "metadata": {},
   "outputs": [],
   "source": [
    "# Groups data in the usa_ufo_df dataframe first by \"state\", then by \"city\" and ascribes the result to an object\n",
    "## called grouped_data.\n",
    "grouped_data = usa_ufo_df.groupby(['state', 'city'])\n",
    "\n",
    "# Hint: If you are counting records, you can use any column and get the same result. Try it.\n",
    "## Looks for the \"datetime\" column in the grouped_data object and returns counts sorted alphabetically  \n",
    "### (first by state and then by cities within the state). It shows how many times there is an entry in the \"datetime\"\n",
    "#### column in each city/state. Since there are the same number of entries in each of the columns, one gets the same\n",
    "##### result if the argument is, for instance, \"shape\" instead of \"datetime\"\n",
    "\n",
    "grouped_data['datetime'].count()"
   ]
  },
  {
   "cell_type": "code",
   "execution_count": null,
   "metadata": {},
   "outputs": [],
   "source": []
  }
 ],
 "metadata": {
  "kernelspec": {
   "display_name": "Python 3",
   "language": "python",
   "name": "python3"
  },
  "language_info": {
   "codemirror_mode": {
    "name": "ipython",
    "version": 3
   },
   "file_extension": ".py",
   "mimetype": "text/x-python",
   "name": "python",
   "nbconvert_exporter": "python",
   "pygments_lexer": "ipython3",
   "version": "3.7.3"
  }
 },
 "nbformat": 4,
 "nbformat_minor": 2
}
