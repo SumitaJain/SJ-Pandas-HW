{
 "cells": [
  {
   "cell_type": "markdown",
   "metadata": {},
   "source": [
    "# Good Reads Summary\n",
    "\n",
    "#### The objective of this assignment is for you to explain what is happening in each cell in clear, understandable language. \n",
    "\n",
    "#### _There is no need to code._ The code is there for you, and it already runs. Your task is only to explain what each line in each cell does.\n",
    "\n",
    "#### The placeholder cells should describe what happens in the cell below it."
   ]
  },
  {
   "cell_type": "markdown",
   "metadata": {},
   "source": [
    "**Example**: The cell below imports `pandas` as a dependency because `pandas` functions will be used throughout the program, such as the Pandas `DataFrame` as well as the `read_csv` function."
   ]
  },
  {
   "cell_type": "code",
   "execution_count": null,
   "metadata": {},
   "outputs": [],
   "source": [
    "import pandas as pd"
   ]
  },
  {
   "cell_type": "code",
   "execution_count": null,
   "metadata": {},
   "outputs": [],
   "source": [
    "# names a variable (goodreads_path) identifying where (the path) the csv file can be found (in the Resources folder) \n",
    "goodreads_path = \"Resources/books_clean.csv\"\n",
    "\n",
    "# reads the csv file, using the path name defined earlier, into a dataframe using commonly used encoding\n",
    "goodreads_df = pd.read_csv(goodreads_path, encoding=\"utf-8\")\n",
    "\n",
    "# displays the first 5 rows of the dataframe\n",
    "goodreads_df.head()"
   ]
  },
  {
   "cell_type": "code",
   "execution_count": null,
   "metadata": {},
   "outputs": [],
   "source": [
    "# inside the len(): identifes the unique authors in the dataframe (in the column) - \n",
    "# adding len() around the result provides the length of the result - i.e., the count of the unique authors (no authors doublecounted)\n",
    "author_count = len(goodreads_df[\"Authors\"].unique())\n",
    "\n",
    "# finds the minimum and maximum values in the \"Publication Year\" column to identify the earliest/latest year of publication\n",
    "earliest_year = goodreads_df[\"Publication Year\"].min()\n",
    "latest_year = goodreads_df[\"Publication Year\"].max()\n",
    "\n",
    "# Finds the \"Reviews\" columns in the dataframe by identifying the index (all rows, 5th column onwards) \n",
    "## of the first column (One Star Reviews) and continuing along the row (axis=1)\n",
    "goodreads_df['Total Reviews'] = goodreads_df.iloc[:, 4:].sum(axis=1)\n",
    "\n",
    "# adds up all 1-5 star review counts and provides the number as an output\n",
    "total_reviews = sum(goodreads_df['Total Reviews'])\n",
    "total_reviews"
   ]
  },
  {
   "cell_type": "code",
   "execution_count": null,
   "metadata": {},
   "outputs": [],
   "source": [
    "# creates a new summary dataframe using variables defined above and ascribing new column titles (e.g., Total Unique Authors)\n",
    "summary_table = pd.DataFrame({\"Total Unique Authors\": [author_count],\n",
    "                              \"Earliest Year\": earliest_year,\n",
    "                              \"Latest Year\": latest_year,\n",
    "                              \"Total Reviews\": total_reviews})\n",
    "\n",
    "# prints the summary dataframe as an output\n",
    "summary_table"
   ]
  }
 ],
 "metadata": {
  "kernelspec": {
   "display_name": "Python 3",
   "language": "python",
   "name": "python3"
  },
  "language_info": {
   "codemirror_mode": {
    "name": "ipython",
    "version": 3
   },
   "file_extension": ".py",
   "mimetype": "text/x-python",
   "name": "python",
   "nbconvert_exporter": "python",
   "pygments_lexer": "ipython3",
   "version": "3.7.3"
  }
 },
 "nbformat": 4,
 "nbformat_minor": 2
}
